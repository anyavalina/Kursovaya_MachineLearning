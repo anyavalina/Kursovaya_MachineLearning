{
 "cells": [
  {
   "cell_type": "markdown",
   "metadata": {},
   "source": [
    "# Предварительный анализ данных\n",
    "## Определение размера входного датасета"
   ]
  },
  {
   "cell_type": "code",
   "execution_count": 6,
   "metadata": {},
   "outputs": [
    {
     "name": "stdout",
     "output_type": "stream",
     "text": [
      "148.0 KB\n"
     ]
    }
   ],
   "source": [
    "import os\n",
    "\n",
    "def convert_bytes(num):\n",
    "    \"\"\"\n",
    "    this function will convert bytes to MB.... GB... etc\n",
    "    \"\"\"\n",
    "    for x in ['bytes', 'KB', 'MB', 'GB', 'TB']:\n",
    "        if num < 1024.0:\n",
    "            return \"%3.1f %s\" % (num, x)\n",
    "        num /= 1024.0\n",
    "def file_size(file_path):\n",
    "    \"\"\"\n",
    "    this function will return the file size\n",
    "    \"\"\"\n",
    "    if os.path.isfile(file_path):\n",
    "        file_info = os.stat(file_path)\n",
    "        return convert_bytes(file_info.st_size)\n",
    "    \n",
    "file_path = r\"expenditure_csv.csv\"\n",
    "print (file_size(file_path))"
   ]
  },
  {
   "cell_type": "markdown",
   "metadata": {},
   "source": [
    "## Загрузка необходимых библиотек"
   ]
  },
  {
   "cell_type": "code",
   "execution_count": 7,
   "metadata": {},
   "outputs": [],
   "source": [
    "import csv\n",
    "import numpy as np\n",
    "import pandas as pd\n",
    "import seaborn as sns\n",
    "import matplotlib.pyplot as plt\n",
    "import plotly.offline as py\n",
    "import plotly.graph_objs as go\n",
    "from sklearn.preprocessing import LabelEncoder\n",
    "from sklearn. preprocessing import StandardScaler\n",
    "from sklearn.decomposition import PCA\n",
    "plt.style.use('ggplot')"
   ]
  },
  {
   "cell_type": "markdown",
   "metadata": {},
   "source": [
    "#### Загрузка исследуемых данных"
   ]
  },
  {
   "cell_type": "code",
   "execution_count": 8,
   "metadata": {},
   "outputs": [],
   "source": [
    "df=pd.read_csv('expenditure_csv.csv', header=0)"
   ]
  },
  {
   "cell_type": "markdown",
   "metadata": {},
   "source": [
    "#### Вывод первых и последних строк датафрейма"
   ]
  },
  {
   "cell_type": "code",
   "execution_count": 9,
   "metadata": {
    "scrolled": true
   },
   "outputs": [
    {
     "data": {
      "text/html": [
       "<div>\n",
       "<style scoped>\n",
       "    .dataframe tbody tr th:only-of-type {\n",
       "        vertical-align: middle;\n",
       "    }\n",
       "\n",
       "    .dataframe tbody tr th {\n",
       "        vertical-align: top;\n",
       "    }\n",
       "\n",
       "    .dataframe thead th {\n",
       "        text-align: right;\n",
       "    }\n",
       "</style>\n",
       "<table border=\"1\" class=\"dataframe\">\n",
       "  <thead>\n",
       "    <tr style=\"text-align: right;\">\n",
       "      <th></th>\n",
       "      <th>LOCATION</th>\n",
       "      <th>Country</th>\n",
       "      <th>TIME</th>\n",
       "      <th>Business enterprise</th>\n",
       "      <th>Government</th>\n",
       "      <th>Higher Education</th>\n",
       "      <th>Private non-profit</th>\n",
       "      <th>Rest of the world</th>\n",
       "      <th>Not specified source</th>\n",
       "      <th>Basic research</th>\n",
       "      <th>Applied research</th>\n",
       "      <th>Experimental development</th>\n",
       "      <th>Not specified activities</th>\n",
       "      <th>Medical and health sciences</th>\n",
       "    </tr>\n",
       "  </thead>\n",
       "  <tbody>\n",
       "    <tr>\n",
       "      <th>0</th>\n",
       "      <td>ALB</td>\n",
       "      <td>Albania</td>\n",
       "      <td>2007</td>\n",
       "      <td>2.930940e+02</td>\n",
       "      <td>1.506861e+04</td>\n",
       "      <td>1282.00667</td>\n",
       "      <td>NaN</td>\n",
       "      <td>2273.15668</td>\n",
       "      <td>NaN</td>\n",
       "      <td>NaN</td>\n",
       "      <td>NaN</td>\n",
       "      <td>NaN</td>\n",
       "      <td>NaN</td>\n",
       "      <td>NaN</td>\n",
       "    </tr>\n",
       "    <tr>\n",
       "      <th>1</th>\n",
       "      <td>ALB</td>\n",
       "      <td>Albania</td>\n",
       "      <td>2008</td>\n",
       "      <td>1.218547e+03</td>\n",
       "      <td>3.020112e+04</td>\n",
       "      <td>3202.33312</td>\n",
       "      <td>NaN</td>\n",
       "      <td>2753.51278</td>\n",
       "      <td>NaN</td>\n",
       "      <td>10278.21016</td>\n",
       "      <td>19958.36723</td>\n",
       "      <td>7138.93631</td>\n",
       "      <td>NaN</td>\n",
       "      <td>NaN</td>\n",
       "    </tr>\n",
       "    <tr>\n",
       "      <th>2</th>\n",
       "      <td>ARE</td>\n",
       "      <td>United Arab Emirates</td>\n",
       "      <td>2014</td>\n",
       "      <td>3.157091e+06</td>\n",
       "      <td>1.092839e+06</td>\n",
       "      <td>NaN</td>\n",
       "      <td>NaN</td>\n",
       "      <td>NaN</td>\n",
       "      <td>NaN</td>\n",
       "      <td>NaN</td>\n",
       "      <td>NaN</td>\n",
       "      <td>NaN</td>\n",
       "      <td>NaN</td>\n",
       "      <td>NaN</td>\n",
       "    </tr>\n",
       "    <tr>\n",
       "      <th>3</th>\n",
       "      <td>ARG</td>\n",
       "      <td>Argentina</td>\n",
       "      <td>1996</td>\n",
       "      <td>NaN</td>\n",
       "      <td>NaN</td>\n",
       "      <td>NaN</td>\n",
       "      <td>NaN</td>\n",
       "      <td>NaN</td>\n",
       "      <td>NaN</td>\n",
       "      <td>447599.43396</td>\n",
       "      <td>790068.75176</td>\n",
       "      <td>355212.36218</td>\n",
       "      <td>NaN</td>\n",
       "      <td>NaN</td>\n",
       "    </tr>\n",
       "    <tr>\n",
       "      <th>4</th>\n",
       "      <td>ARG</td>\n",
       "      <td>Argentina</td>\n",
       "      <td>1997</td>\n",
       "      <td>4.790537e+05</td>\n",
       "      <td>1.153081e+06</td>\n",
       "      <td>29224.56816</td>\n",
       "      <td>38536.31782</td>\n",
       "      <td>60454.74394</td>\n",
       "      <td>NaN</td>\n",
       "      <td>454170.41829</td>\n",
       "      <td>876654.52833</td>\n",
       "      <td>429525.51187</td>\n",
       "      <td>NaN</td>\n",
       "      <td>NaN</td>\n",
       "    </tr>\n",
       "  </tbody>\n",
       "</table>\n",
       "</div>"
      ],
      "text/plain": [
       "  LOCATION               Country  TIME  Business enterprise    Government  \\\n",
       "0      ALB               Albania  2007         2.930940e+02  1.506861e+04   \n",
       "1      ALB               Albania  2008         1.218547e+03  3.020112e+04   \n",
       "2      ARE  United Arab Emirates  2014         3.157091e+06  1.092839e+06   \n",
       "3      ARG             Argentina  1996                  NaN           NaN   \n",
       "4      ARG             Argentina  1997         4.790537e+05  1.153081e+06   \n",
       "\n",
       "   Higher Education  Private non-profit  Rest of the world  \\\n",
       "0        1282.00667                 NaN         2273.15668   \n",
       "1        3202.33312                 NaN         2753.51278   \n",
       "2               NaN                 NaN                NaN   \n",
       "3               NaN                 NaN                NaN   \n",
       "4       29224.56816         38536.31782        60454.74394   \n",
       "\n",
       "   Not specified source  Basic research  Applied research  \\\n",
       "0                   NaN             NaN               NaN   \n",
       "1                   NaN     10278.21016       19958.36723   \n",
       "2                   NaN             NaN               NaN   \n",
       "3                   NaN    447599.43396      790068.75176   \n",
       "4                   NaN    454170.41829      876654.52833   \n",
       "\n",
       "   Experimental development  Not specified activities  \\\n",
       "0                       NaN                       NaN   \n",
       "1                7138.93631                       NaN   \n",
       "2                       NaN                       NaN   \n",
       "3              355212.36218                       NaN   \n",
       "4              429525.51187                       NaN   \n",
       "\n",
       "   Medical and health sciences  \n",
       "0                          NaN  \n",
       "1                          NaN  \n",
       "2                          NaN  \n",
       "3                          NaN  \n",
       "4                          NaN  "
      ]
     },
     "execution_count": 9,
     "metadata": {},
     "output_type": "execute_result"
    }
   ],
   "source": [
    "df.head()"
   ]
  },
  {
   "cell_type": "code",
   "execution_count": 10,
   "metadata": {
    "scrolled": true
   },
   "outputs": [
    {
     "data": {
      "text/html": [
       "<div>\n",
       "<style scoped>\n",
       "    .dataframe tbody tr th:only-of-type {\n",
       "        vertical-align: middle;\n",
       "    }\n",
       "\n",
       "    .dataframe tbody tr th {\n",
       "        vertical-align: top;\n",
       "    }\n",
       "\n",
       "    .dataframe thead th {\n",
       "        text-align: right;\n",
       "    }\n",
       "</style>\n",
       "<table border=\"1\" class=\"dataframe\">\n",
       "  <thead>\n",
       "    <tr style=\"text-align: right;\">\n",
       "      <th></th>\n",
       "      <th>LOCATION</th>\n",
       "      <th>Country</th>\n",
       "      <th>TIME</th>\n",
       "      <th>Business enterprise</th>\n",
       "      <th>Government</th>\n",
       "      <th>Higher Education</th>\n",
       "      <th>Private non-profit</th>\n",
       "      <th>Rest of the world</th>\n",
       "      <th>Not specified source</th>\n",
       "      <th>Basic research</th>\n",
       "      <th>Applied research</th>\n",
       "      <th>Experimental development</th>\n",
       "      <th>Not specified activities</th>\n",
       "      <th>Medical and health sciences</th>\n",
       "    </tr>\n",
       "  </thead>\n",
       "  <tbody>\n",
       "    <tr>\n",
       "      <th>1326</th>\n",
       "      <td>ZAF</td>\n",
       "      <td>South Africa</td>\n",
       "      <td>2010</td>\n",
       "      <td>1.777157e+06</td>\n",
       "      <td>1.971883e+06</td>\n",
       "      <td>2389.29391</td>\n",
       "      <td>142279.30373</td>\n",
       "      <td>534575.86983</td>\n",
       "      <td>NaN</td>\n",
       "      <td>1.060027e+06</td>\n",
       "      <td>1.761973e+06</td>\n",
       "      <td>1.606285e+06</td>\n",
       "      <td>NaN</td>\n",
       "      <td>756778.23539</td>\n",
       "    </tr>\n",
       "    <tr>\n",
       "      <th>1327</th>\n",
       "      <td>ZAF</td>\n",
       "      <td>South Africa</td>\n",
       "      <td>2011</td>\n",
       "      <td>1.814666e+06</td>\n",
       "      <td>2.002941e+06</td>\n",
       "      <td>6532.76151</td>\n",
       "      <td>130392.76347</td>\n",
       "      <td>697641.19919</td>\n",
       "      <td>NaN</td>\n",
       "      <td>1.139428e+06</td>\n",
       "      <td>1.966568e+06</td>\n",
       "      <td>1.546178e+06</td>\n",
       "      <td>NaN</td>\n",
       "      <td>800006.15978</td>\n",
       "    </tr>\n",
       "    <tr>\n",
       "      <th>1328</th>\n",
       "      <td>ZAF</td>\n",
       "      <td>South Africa</td>\n",
       "      <td>2012</td>\n",
       "      <td>1.854363e+06</td>\n",
       "      <td>2.194731e+06</td>\n",
       "      <td>37304.10127</td>\n",
       "      <td>118772.12020</td>\n",
       "      <td>631555.34871</td>\n",
       "      <td>NaN</td>\n",
       "      <td>1.221951e+06</td>\n",
       "      <td>2.241810e+06</td>\n",
       "      <td>1.372965e+06</td>\n",
       "      <td>NaN</td>\n",
       "      <td>832279.74353</td>\n",
       "    </tr>\n",
       "    <tr>\n",
       "      <th>1329</th>\n",
       "      <td>ZAF</td>\n",
       "      <td>South Africa</td>\n",
       "      <td>2013</td>\n",
       "      <td>2.050618e+06</td>\n",
       "      <td>2.126181e+06</td>\n",
       "      <td>35130.68555</td>\n",
       "      <td>104404.01880</td>\n",
       "      <td>640385.09733</td>\n",
       "      <td>NaN</td>\n",
       "      <td>1.178708e+06</td>\n",
       "      <td>2.343516e+06</td>\n",
       "      <td>1.434495e+06</td>\n",
       "      <td>NaN</td>\n",
       "      <td>901773.74729</td>\n",
       "    </tr>\n",
       "    <tr>\n",
       "      <th>1330</th>\n",
       "      <td>ZMB</td>\n",
       "      <td>Zambia</td>\n",
       "      <td>2008</td>\n",
       "      <td>3.252066e+03</td>\n",
       "      <td>9.554834e+04</td>\n",
       "      <td>NaN</td>\n",
       "      <td>324.99069</td>\n",
       "      <td>1630.89182</td>\n",
       "      <td>NaN</td>\n",
       "      <td>NaN</td>\n",
       "      <td>NaN</td>\n",
       "      <td>NaN</td>\n",
       "      <td>NaN</td>\n",
       "      <td>NaN</td>\n",
       "    </tr>\n",
       "  </tbody>\n",
       "</table>\n",
       "</div>"
      ],
      "text/plain": [
       "     LOCATION       Country  TIME  Business enterprise    Government  \\\n",
       "1326      ZAF  South Africa  2010         1.777157e+06  1.971883e+06   \n",
       "1327      ZAF  South Africa  2011         1.814666e+06  2.002941e+06   \n",
       "1328      ZAF  South Africa  2012         1.854363e+06  2.194731e+06   \n",
       "1329      ZAF  South Africa  2013         2.050618e+06  2.126181e+06   \n",
       "1330      ZMB        Zambia  2008         3.252066e+03  9.554834e+04   \n",
       "\n",
       "      Higher Education  Private non-profit  Rest of the world  \\\n",
       "1326        2389.29391        142279.30373       534575.86983   \n",
       "1327        6532.76151        130392.76347       697641.19919   \n",
       "1328       37304.10127        118772.12020       631555.34871   \n",
       "1329       35130.68555        104404.01880       640385.09733   \n",
       "1330               NaN           324.99069         1630.89182   \n",
       "\n",
       "      Not specified source  Basic research  Applied research  \\\n",
       "1326                   NaN    1.060027e+06      1.761973e+06   \n",
       "1327                   NaN    1.139428e+06      1.966568e+06   \n",
       "1328                   NaN    1.221951e+06      2.241810e+06   \n",
       "1329                   NaN    1.178708e+06      2.343516e+06   \n",
       "1330                   NaN             NaN               NaN   \n",
       "\n",
       "      Experimental development  Not specified activities  \\\n",
       "1326              1.606285e+06                       NaN   \n",
       "1327              1.546178e+06                       NaN   \n",
       "1328              1.372965e+06                       NaN   \n",
       "1329              1.434495e+06                       NaN   \n",
       "1330                       NaN                       NaN   \n",
       "\n",
       "      Medical and health sciences  \n",
       "1326                 756778.23539  \n",
       "1327                 800006.15978  \n",
       "1328                 832279.74353  \n",
       "1329                 901773.74729  \n",
       "1330                          NaN  "
      ]
     },
     "execution_count": 10,
     "metadata": {},
     "output_type": "execute_result"
    }
   ],
   "source": [
    "df.tail()"
   ]
  },
  {
   "cell_type": "markdown",
   "metadata": {},
   "source": [
    "#### Размер датасета"
   ]
  },
  {
   "cell_type": "code",
   "execution_count": 11,
   "metadata": {},
   "outputs": [
    {
     "data": {
      "text/plain": [
       "(1331, 14)"
      ]
     },
     "execution_count": 11,
     "metadata": {},
     "output_type": "execute_result"
    }
   ],
   "source": [
    "df.shape"
   ]
  },
  {
   "cell_type": "markdown",
   "metadata": {},
   "source": [
    "#### Определение типов признаков и количества столбцов каждого типа"
   ]
  },
  {
   "cell_type": "code",
   "execution_count": 12,
   "metadata": {},
   "outputs": [
    {
     "data": {
      "text/html": [
       "<div>\n",
       "<style scoped>\n",
       "    .dataframe tbody tr th:only-of-type {\n",
       "        vertical-align: middle;\n",
       "    }\n",
       "\n",
       "    .dataframe tbody tr th {\n",
       "        vertical-align: top;\n",
       "    }\n",
       "\n",
       "    .dataframe thead th {\n",
       "        text-align: right;\n",
       "    }\n",
       "</style>\n",
       "<table border=\"1\" class=\"dataframe\">\n",
       "  <thead>\n",
       "    <tr style=\"text-align: right;\">\n",
       "      <th></th>\n",
       "      <th>Count</th>\n",
       "      <th>Column Type</th>\n",
       "    </tr>\n",
       "  </thead>\n",
       "  <tbody>\n",
       "    <tr>\n",
       "      <th>0</th>\n",
       "      <td>LOCATION</td>\n",
       "      <td>object</td>\n",
       "    </tr>\n",
       "    <tr>\n",
       "      <th>1</th>\n",
       "      <td>Country</td>\n",
       "      <td>object</td>\n",
       "    </tr>\n",
       "    <tr>\n",
       "      <th>2</th>\n",
       "      <td>TIME</td>\n",
       "      <td>int64</td>\n",
       "    </tr>\n",
       "    <tr>\n",
       "      <th>3</th>\n",
       "      <td>Business enterprise</td>\n",
       "      <td>float64</td>\n",
       "    </tr>\n",
       "    <tr>\n",
       "      <th>4</th>\n",
       "      <td>Government</td>\n",
       "      <td>float64</td>\n",
       "    </tr>\n",
       "    <tr>\n",
       "      <th>5</th>\n",
       "      <td>Higher Education</td>\n",
       "      <td>float64</td>\n",
       "    </tr>\n",
       "    <tr>\n",
       "      <th>6</th>\n",
       "      <td>Private non-profit</td>\n",
       "      <td>float64</td>\n",
       "    </tr>\n",
       "    <tr>\n",
       "      <th>7</th>\n",
       "      <td>Rest of the world</td>\n",
       "      <td>float64</td>\n",
       "    </tr>\n",
       "    <tr>\n",
       "      <th>8</th>\n",
       "      <td>Not specified source</td>\n",
       "      <td>float64</td>\n",
       "    </tr>\n",
       "    <tr>\n",
       "      <th>9</th>\n",
       "      <td>Basic research</td>\n",
       "      <td>float64</td>\n",
       "    </tr>\n",
       "    <tr>\n",
       "      <th>10</th>\n",
       "      <td>Applied research</td>\n",
       "      <td>float64</td>\n",
       "    </tr>\n",
       "    <tr>\n",
       "      <th>11</th>\n",
       "      <td>Experimental development</td>\n",
       "      <td>float64</td>\n",
       "    </tr>\n",
       "    <tr>\n",
       "      <th>12</th>\n",
       "      <td>Not specified activities</td>\n",
       "      <td>float64</td>\n",
       "    </tr>\n",
       "    <tr>\n",
       "      <th>13</th>\n",
       "      <td>Medical and health sciences</td>\n",
       "      <td>float64</td>\n",
       "    </tr>\n",
       "  </tbody>\n",
       "</table>\n",
       "</div>"
      ],
      "text/plain": [
       "                          Count Column Type\n",
       "0                      LOCATION      object\n",
       "1                       Country      object\n",
       "2                          TIME       int64\n",
       "3           Business enterprise     float64\n",
       "4                    Government     float64\n",
       "5              Higher Education     float64\n",
       "6            Private non-profit     float64\n",
       "7             Rest of the world     float64\n",
       "8          Not specified source     float64\n",
       "9                Basic research     float64\n",
       "10             Applied research     float64\n",
       "11     Experimental development     float64\n",
       "12     Not specified activities     float64\n",
       "13  Medical and health sciences     float64"
      ]
     },
     "execution_count": 12,
     "metadata": {},
     "output_type": "execute_result"
    }
   ],
   "source": [
    "pd.options.display.max_rows = 65\n",
    "\n",
    "dtype_df = df.dtypes.reset_index()\n",
    "dtype_df.columns = [\"Count\", \"Column Type\"]\n",
    "dtype_df"
   ]
  },
  {
   "cell_type": "code",
   "execution_count": 13,
   "metadata": {},
   "outputs": [
    {
     "data": {
      "text/html": [
       "<div>\n",
       "<style scoped>\n",
       "    .dataframe tbody tr th:only-of-type {\n",
       "        vertical-align: middle;\n",
       "    }\n",
       "\n",
       "    .dataframe tbody tr th {\n",
       "        vertical-align: top;\n",
       "    }\n",
       "\n",
       "    .dataframe thead th {\n",
       "        text-align: right;\n",
       "    }\n",
       "</style>\n",
       "<table border=\"1\" class=\"dataframe\">\n",
       "  <thead>\n",
       "    <tr style=\"text-align: right;\">\n",
       "      <th></th>\n",
       "      <th>Column Type</th>\n",
       "      <th>Count</th>\n",
       "    </tr>\n",
       "  </thead>\n",
       "  <tbody>\n",
       "    <tr>\n",
       "      <th>0</th>\n",
       "      <td>int64</td>\n",
       "      <td>1</td>\n",
       "    </tr>\n",
       "    <tr>\n",
       "      <th>1</th>\n",
       "      <td>float64</td>\n",
       "      <td>11</td>\n",
       "    </tr>\n",
       "    <tr>\n",
       "      <th>2</th>\n",
       "      <td>object</td>\n",
       "      <td>2</td>\n",
       "    </tr>\n",
       "  </tbody>\n",
       "</table>\n",
       "</div>"
      ],
      "text/plain": [
       "  Column Type  Count\n",
       "0       int64      1\n",
       "1     float64     11\n",
       "2      object      2"
      ]
     },
     "execution_count": 13,
     "metadata": {},
     "output_type": "execute_result"
    }
   ],
   "source": [
    "dtype_df.groupby(\"Column Type\").aggregate('count').reset_index()"
   ]
  },
  {
   "cell_type": "markdown",
   "metadata": {},
   "source": [
    "#### Функция для вычисления пропущенных значений по столбцам"
   ]
  },
  {
   "cell_type": "code",
   "execution_count": 14,
   "metadata": {},
   "outputs": [],
   "source": [
    "def missing_values_table(df):\n",
    "        \n",
    "        mis_val = df.isnull().sum()\n",
    "        \n",
    "        mis_val_percent = 100 * df.isnull().sum() / len(df)\n",
    "        \n",
    "        mis_val_table = pd.concat([mis_val, mis_val_percent], axis=1)\n",
    "        \n",
    "        mis_val_table_ren_columns = mis_val_table.rename(\n",
    "        columns = {0 : 'Missing Values', 1 : '% of Total Values'})\n",
    "        \n",
    "        mis_val_table_ren_columns = mis_val_table_ren_columns[\n",
    "            mis_val_table_ren_columns.iloc[:,1] != 0].sort_values(\n",
    "        '% of Total Values', ascending=False).round(1)\n",
    "        \n",
    "        print (\"Датасет содержит \" + str(df.shape[1]) + \" признаков.\\n\"      \n",
    "            \"Из них \" + str(mis_val_table_ren_columns.shape[0]) +\n",
    "              \" имеют пропущенные значения.\")\n",
    "        \n",
    "        return mis_val_table_ren_columns"
   ]
  },
  {
   "cell_type": "code",
   "execution_count": 15,
   "metadata": {},
   "outputs": [
    {
     "name": "stdout",
     "output_type": "stream",
     "text": [
      "Датасет содержит 14 признаков.\n",
      "Из них 11 имеют пропущенные значения.\n"
     ]
    },
    {
     "data": {
      "text/html": [
       "<div>\n",
       "<style scoped>\n",
       "    .dataframe tbody tr th:only-of-type {\n",
       "        vertical-align: middle;\n",
       "    }\n",
       "\n",
       "    .dataframe tbody tr th {\n",
       "        vertical-align: top;\n",
       "    }\n",
       "\n",
       "    .dataframe thead th {\n",
       "        text-align: right;\n",
       "    }\n",
       "</style>\n",
       "<table border=\"1\" class=\"dataframe\">\n",
       "  <thead>\n",
       "    <tr style=\"text-align: right;\">\n",
       "      <th></th>\n",
       "      <th>Missing Values</th>\n",
       "      <th>% of Total Values</th>\n",
       "    </tr>\n",
       "  </thead>\n",
       "  <tbody>\n",
       "    <tr>\n",
       "      <th>Not specified activities</th>\n",
       "      <td>1167</td>\n",
       "      <td>87.7</td>\n",
       "    </tr>\n",
       "    <tr>\n",
       "      <th>Not specified source</th>\n",
       "      <td>1127</td>\n",
       "      <td>84.7</td>\n",
       "    </tr>\n",
       "    <tr>\n",
       "      <th>Medical and health sciences</th>\n",
       "      <td>732</td>\n",
       "      <td>55.0</td>\n",
       "    </tr>\n",
       "    <tr>\n",
       "      <th>Experimental development</th>\n",
       "      <td>680</td>\n",
       "      <td>51.1</td>\n",
       "    </tr>\n",
       "    <tr>\n",
       "      <th>Basic research</th>\n",
       "      <td>669</td>\n",
       "      <td>50.3</td>\n",
       "    </tr>\n",
       "    <tr>\n",
       "      <th>Applied research</th>\n",
       "      <td>658</td>\n",
       "      <td>49.4</td>\n",
       "    </tr>\n",
       "    <tr>\n",
       "      <th>Private non-profit</th>\n",
       "      <td>427</td>\n",
       "      <td>32.1</td>\n",
       "    </tr>\n",
       "    <tr>\n",
       "      <th>Higher Education</th>\n",
       "      <td>384</td>\n",
       "      <td>28.9</td>\n",
       "    </tr>\n",
       "    <tr>\n",
       "      <th>Rest of the world</th>\n",
       "      <td>194</td>\n",
       "      <td>14.6</td>\n",
       "    </tr>\n",
       "    <tr>\n",
       "      <th>Business enterprise</th>\n",
       "      <td>185</td>\n",
       "      <td>13.9</td>\n",
       "    </tr>\n",
       "    <tr>\n",
       "      <th>Government</th>\n",
       "      <td>79</td>\n",
       "      <td>5.9</td>\n",
       "    </tr>\n",
       "  </tbody>\n",
       "</table>\n",
       "</div>"
      ],
      "text/plain": [
       "                             Missing Values  % of Total Values\n",
       "Not specified activities               1167               87.7\n",
       "Not specified source                   1127               84.7\n",
       "Medical and health sciences             732               55.0\n",
       "Experimental development                680               51.1\n",
       "Basic research                          669               50.3\n",
       "Applied research                        658               49.4\n",
       "Private non-profit                      427               32.1\n",
       "Higher Education                        384               28.9\n",
       "Rest of the world                       194               14.6\n",
       "Business enterprise                     185               13.9\n",
       "Government                               79                5.9"
      ]
     },
     "execution_count": 15,
     "metadata": {},
     "output_type": "execute_result"
    }
   ],
   "source": [
    "missing_values = missing_values_table(df)\n",
    "missing_values"
   ]
  },
  {
   "cell_type": "markdown",
   "metadata": {},
   "source": [
    "## Очистка данных"
   ]
  },
  {
   "cell_type": "markdown",
   "metadata": {},
   "source": [
    "#### Заполнение пропущенных значений медианой"
   ]
  },
  {
   "cell_type": "code",
   "execution_count": 16,
   "metadata": {},
   "outputs": [
    {
     "name": "stdout",
     "output_type": "stream",
     "text": [
      "Заполнение недостающих значений для: Business enterprise\n",
      "Заполнение недостающих значений для: Government\n",
      "Заполнение недостающих значений для: Higher Education\n",
      "Заполнение недостающих значений для: Private non-profit\n",
      "Заполнение недостающих значений для: Rest of the world\n",
      "Заполнение недостающих значений для: Not specified source\n",
      "Заполнение недостающих значений для: Basic research\n",
      "Заполнение недостающих значений для: Applied research\n",
      "Заполнение недостающих значений для: Experimental development\n",
      "Заполнение недостающих значений для: Not specified activities\n",
      "Заполнение недостающих значений для: Medical and health sciences\n"
     ]
    }
   ],
   "source": [
    "df_numeric = df.select_dtypes(include=[np.number])\n",
    "numeric_cols = df_numeric.columns.values\n",
    "for col in numeric_cols:\n",
    "    missing = df[col].isnull()\n",
    "    num_missing = np.sum(missing)\n",
    "    \n",
    "    if num_missing > 0:  \n",
    "        print('Заполнение недостающих значений для: {}'.format(col))\n",
    "        \n",
    "        med = df[col].median()\n",
    "        df[col] = df[col].fillna(med)"
   ]
  },
  {
   "cell_type": "markdown",
   "metadata": {},
   "source": [
    "#### Проверка на пропуски"
   ]
  },
  {
   "cell_type": "code",
   "execution_count": 17,
   "metadata": {},
   "outputs": [
    {
     "data": {
      "text/plain": [
       "LOCATION                       0\n",
       "Country                        0\n",
       "TIME                           0\n",
       "Business enterprise            0\n",
       "Government                     0\n",
       "Higher Education               0\n",
       "Private non-profit             0\n",
       "Rest of the world              0\n",
       "Not specified source           0\n",
       "Basic research                 0\n",
       "Applied research               0\n",
       "Experimental development       0\n",
       "Not specified activities       0\n",
       "Medical and health sciences    0\n",
       "dtype: int64"
      ]
     },
     "execution_count": 17,
     "metadata": {},
     "output_type": "execute_result"
    }
   ],
   "source": [
    "df.isnull().sum()"
   ]
  },
  {
   "cell_type": "markdown",
   "metadata": {},
   "source": [
    "## Описательный анализ данных"
   ]
  },
  {
   "cell_type": "markdown",
   "metadata": {},
   "source": [
    "#### Описательные статистики для числовых полей"
   ]
  },
  {
   "cell_type": "code",
   "execution_count": 18,
   "metadata": {},
   "outputs": [
    {
     "data": {
      "text/html": [
       "<div>\n",
       "<style scoped>\n",
       "    .dataframe tbody tr th:only-of-type {\n",
       "        vertical-align: middle;\n",
       "    }\n",
       "\n",
       "    .dataframe tbody tr th {\n",
       "        vertical-align: top;\n",
       "    }\n",
       "\n",
       "    .dataframe thead th {\n",
       "        text-align: right;\n",
       "    }\n",
       "</style>\n",
       "<table border=\"1\" class=\"dataframe\">\n",
       "  <thead>\n",
       "    <tr style=\"text-align: right;\">\n",
       "      <th></th>\n",
       "      <th>TIME</th>\n",
       "      <th>Business enterprise</th>\n",
       "      <th>Government</th>\n",
       "      <th>Higher Education</th>\n",
       "      <th>Private non-profit</th>\n",
       "      <th>Rest of the world</th>\n",
       "      <th>Not specified source</th>\n",
       "      <th>Basic research</th>\n",
       "      <th>Applied research</th>\n",
       "      <th>Experimental development</th>\n",
       "      <th>Not specified activities</th>\n",
       "      <th>Medical and health sciences</th>\n",
       "    </tr>\n",
       "  </thead>\n",
       "  <tbody>\n",
       "    <tr>\n",
       "      <th>count</th>\n",
       "      <td>1331.000000</td>\n",
       "      <td>1.331000e+03</td>\n",
       "      <td>1.331000e+03</td>\n",
       "      <td>1.331000e+03</td>\n",
       "      <td>1.331000e+03</td>\n",
       "      <td>1.331000e+03</td>\n",
       "      <td>1.331000e+03</td>\n",
       "      <td>1.331000e+03</td>\n",
       "      <td>1.331000e+03</td>\n",
       "      <td>1.331000e+03</td>\n",
       "      <td>1.331000e+03</td>\n",
       "      <td>1.331000e+03</td>\n",
       "    </tr>\n",
       "    <tr>\n",
       "      <th>mean</th>\n",
       "      <td>2006.123216</td>\n",
       "      <td>9.165234e+06</td>\n",
       "      <td>4.459117e+06</td>\n",
       "      <td>3.776984e+05</td>\n",
       "      <td>2.572831e+05</td>\n",
       "      <td>5.468999e+05</td>\n",
       "      <td>2.121136e+04</td>\n",
       "      <td>1.044119e+06</td>\n",
       "      <td>1.746139e+06</td>\n",
       "      <td>4.247393e+06</td>\n",
       "      <td>2.329954e+05</td>\n",
       "      <td>1.716922e+05</td>\n",
       "    </tr>\n",
       "    <tr>\n",
       "      <th>std</th>\n",
       "      <td>5.458510</td>\n",
       "      <td>3.412622e+07</td>\n",
       "      <td>1.424384e+07</td>\n",
       "      <td>1.599080e+06</td>\n",
       "      <td>1.462899e+06</td>\n",
       "      <td>1.673106e+06</td>\n",
       "      <td>2.463360e+05</td>\n",
       "      <td>2.720583e+06</td>\n",
       "      <td>4.944574e+06</td>\n",
       "      <td>2.173649e+07</td>\n",
       "      <td>1.092393e+06</td>\n",
       "      <td>5.938039e+05</td>\n",
       "    </tr>\n",
       "    <tr>\n",
       "      <th>min</th>\n",
       "      <td>1996.000000</td>\n",
       "      <td>2.542250e+00</td>\n",
       "      <td>1.785972e+02</td>\n",
       "      <td>9.355100e+00</td>\n",
       "      <td>1.750460e+00</td>\n",
       "      <td>2.387420e+00</td>\n",
       "      <td>5.110000e-03</td>\n",
       "      <td>5.221224e+02</td>\n",
       "      <td>7.276912e+01</td>\n",
       "      <td>4.651638e+02</td>\n",
       "      <td>2.262000e-02</td>\n",
       "      <td>8.022944e+01</td>\n",
       "    </tr>\n",
       "    <tr>\n",
       "      <th>25%</th>\n",
       "      <td>2002.000000</td>\n",
       "      <td>1.136862e+05</td>\n",
       "      <td>1.166923e+05</td>\n",
       "      <td>1.111102e+04</td>\n",
       "      <td>3.963598e+03</td>\n",
       "      <td>2.357991e+04</td>\n",
       "      <td>6.616908e+03</td>\n",
       "      <td>2.915338e+05</td>\n",
       "      <td>3.856356e+05</td>\n",
       "      <td>3.496043e+05</td>\n",
       "      <td>7.217825e+04</td>\n",
       "      <td>4.528008e+04</td>\n",
       "    </tr>\n",
       "    <tr>\n",
       "      <th>50%</th>\n",
       "      <td>2007.000000</td>\n",
       "      <td>5.944523e+05</td>\n",
       "      <td>5.429247e+05</td>\n",
       "      <td>2.769224e+04</td>\n",
       "      <td>1.575403e+04</td>\n",
       "      <td>6.921768e+04</td>\n",
       "      <td>6.616908e+03</td>\n",
       "      <td>2.915338e+05</td>\n",
       "      <td>3.960281e+05</td>\n",
       "      <td>3.496043e+05</td>\n",
       "      <td>7.217825e+04</td>\n",
       "      <td>4.528008e+04</td>\n",
       "    </tr>\n",
       "    <tr>\n",
       "      <th>75%</th>\n",
       "      <td>2011.000000</td>\n",
       "      <td>3.144368e+06</td>\n",
       "      <td>2.132784e+06</td>\n",
       "      <td>1.068874e+05</td>\n",
       "      <td>4.541978e+04</td>\n",
       "      <td>3.414696e+05</td>\n",
       "      <td>6.616908e+03</td>\n",
       "      <td>2.915338e+05</td>\n",
       "      <td>4.166151e+05</td>\n",
       "      <td>3.496043e+05</td>\n",
       "      <td>7.217825e+04</td>\n",
       "      <td>4.528008e+04</td>\n",
       "    </tr>\n",
       "    <tr>\n",
       "      <th>max</th>\n",
       "      <td>2016.000000</td>\n",
       "      <td>3.226170e+08</td>\n",
       "      <td>1.343840e+08</td>\n",
       "      <td>1.712700e+07</td>\n",
       "      <td>1.878800e+07</td>\n",
       "      <td>2.406100e+07</td>\n",
       "      <td>7.468113e+06</td>\n",
       "      <td>2.090894e+07</td>\n",
       "      <td>4.418466e+07</td>\n",
       "      <td>3.446929e+08</td>\n",
       "      <td>1.539857e+07</td>\n",
       "      <td>8.648136e+06</td>\n",
       "    </tr>\n",
       "  </tbody>\n",
       "</table>\n",
       "</div>"
      ],
      "text/plain": [
       "              TIME  Business enterprise    Government  Higher Education  \\\n",
       "count  1331.000000         1.331000e+03  1.331000e+03      1.331000e+03   \n",
       "mean   2006.123216         9.165234e+06  4.459117e+06      3.776984e+05   \n",
       "std       5.458510         3.412622e+07  1.424384e+07      1.599080e+06   \n",
       "min    1996.000000         2.542250e+00  1.785972e+02      9.355100e+00   \n",
       "25%    2002.000000         1.136862e+05  1.166923e+05      1.111102e+04   \n",
       "50%    2007.000000         5.944523e+05  5.429247e+05      2.769224e+04   \n",
       "75%    2011.000000         3.144368e+06  2.132784e+06      1.068874e+05   \n",
       "max    2016.000000         3.226170e+08  1.343840e+08      1.712700e+07   \n",
       "\n",
       "       Private non-profit  Rest of the world  Not specified source  \\\n",
       "count        1.331000e+03       1.331000e+03          1.331000e+03   \n",
       "mean         2.572831e+05       5.468999e+05          2.121136e+04   \n",
       "std          1.462899e+06       1.673106e+06          2.463360e+05   \n",
       "min          1.750460e+00       2.387420e+00          5.110000e-03   \n",
       "25%          3.963598e+03       2.357991e+04          6.616908e+03   \n",
       "50%          1.575403e+04       6.921768e+04          6.616908e+03   \n",
       "75%          4.541978e+04       3.414696e+05          6.616908e+03   \n",
       "max          1.878800e+07       2.406100e+07          7.468113e+06   \n",
       "\n",
       "       Basic research  Applied research  Experimental development  \\\n",
       "count    1.331000e+03      1.331000e+03              1.331000e+03   \n",
       "mean     1.044119e+06      1.746139e+06              4.247393e+06   \n",
       "std      2.720583e+06      4.944574e+06              2.173649e+07   \n",
       "min      5.221224e+02      7.276912e+01              4.651638e+02   \n",
       "25%      2.915338e+05      3.856356e+05              3.496043e+05   \n",
       "50%      2.915338e+05      3.960281e+05              3.496043e+05   \n",
       "75%      2.915338e+05      4.166151e+05              3.496043e+05   \n",
       "max      2.090894e+07      4.418466e+07              3.446929e+08   \n",
       "\n",
       "       Not specified activities  Medical and health sciences  \n",
       "count              1.331000e+03                 1.331000e+03  \n",
       "mean               2.329954e+05                 1.716922e+05  \n",
       "std                1.092393e+06                 5.938039e+05  \n",
       "min                2.262000e-02                 8.022944e+01  \n",
       "25%                7.217825e+04                 4.528008e+04  \n",
       "50%                7.217825e+04                 4.528008e+04  \n",
       "75%                7.217825e+04                 4.528008e+04  \n",
       "max                1.539857e+07                 8.648136e+06  "
      ]
     },
     "execution_count": 18,
     "metadata": {},
     "output_type": "execute_result"
    }
   ],
   "source": [
    "df.describe()"
   ]
  },
  {
   "cell_type": "markdown",
   "metadata": {},
   "source": [
    "#### Вычисление величины перекоса"
   ]
  },
  {
   "cell_type": "code",
   "execution_count": 19,
   "metadata": {},
   "outputs": [
    {
     "data": {
      "text/plain": [
       "TIME                           -0.156441\n",
       "Business enterprise             5.855628\n",
       "Government                      6.311082\n",
       "Higher Education                6.333137\n",
       "Private non-profit              9.279645\n",
       "Rest of the world               8.253714\n",
       "Not specified source           26.098113\n",
       "Basic research                  4.460322\n",
       "Applied research                4.634242\n",
       "Experimental development        9.878369\n",
       "Not specified activities        8.722720\n",
       "Medical and health sciences     8.527098\n",
       "dtype: float64"
      ]
     },
     "execution_count": 19,
     "metadata": {},
     "output_type": "execute_result"
    }
   ],
   "source": [
    "df.skew() "
   ]
  },
  {
   "cell_type": "markdown",
   "metadata": {},
   "source": [
    "#### Построение графиков распределений"
   ]
  },
  {
   "cell_type": "code",
   "execution_count": 20,
   "metadata": {},
   "outputs": [
    {
     "name": "stderr",
     "output_type": "stream",
     "text": [
      "C:\\ProgramData\\Anaconda3\\lib\\site-packages\\matplotlib\\axes\\_axes.py:6462: UserWarning:\n",
      "\n",
      "The 'normed' kwarg is deprecated, and has been replaced by the 'density' kwarg.\n",
      "\n"
     ]
    },
    {
     "data": {
      "text/plain": [
       "<matplotlib.axes._subplots.AxesSubplot at 0x2ba14f43d68>"
      ]
     },
     "execution_count": 20,
     "metadata": {},
     "output_type": "execute_result"
    },
    {
     "data": {
      "image/png": "[encoded data removed]",
      "text/plain": [
       "<Figure size 432x288 with 1 Axes>"
      ]
     },
     "metadata": {},
     "output_type": "display_data"
    }
   ],
   "source": [
    "sns.distplot(df['Basic research'])"
   ]
  },
  {
   "cell_type": "code",
   "execution_count": 21,
   "metadata": {},
   "outputs": [
    {
     "name": "stderr",
     "output_type": "stream",
     "text": [
      "C:\\ProgramData\\Anaconda3\\lib\\site-packages\\matplotlib\\axes\\_axes.py:6462: UserWarning:\n",
      "\n",
      "The 'normed' kwarg is deprecated, and has been replaced by the 'density' kwarg.\n",
      "\n"
     ]
    },
    {
     "data": {
      "text/plain": [
       "<matplotlib.axes._subplots.AxesSubplot at 0x2ba14f429e8>"
      ]
     },
     "execution_count": 21,
     "metadata": {},
     "output_type": "execute_result"
    },
    {
     "data": {
      "image/png": "[encoded data removed]",
      "text/plain": [
       "<Figure size 432x288 with 1 Axes>"
      ]
     },
     "metadata": {},
     "output_type": "display_data"
    }
   ],
   "source": [
    "sns.distplot(df['Business enterprise'])"
   ]
  },
  {
   "cell_type": "markdown",
   "metadata": {},
   "source": [
    "#### Построение таблицы корреляции"
   ]
  },
  {
   "cell_type": "code",
   "execution_count": 22,
   "metadata": {},
   "outputs": [
    {
     "data": {
      "text/plain": [
       "<matplotlib.axes._subplots.AxesSubplot at 0x2ba150cfc50>"
      ]
     },
     "execution_count": 22,
     "metadata": {},
     "output_type": "execute_result"
    },
    {
     "data": {
      "image/png": "[encoded data removed]",
      "text/plain": [
       "<Figure size 864x720 with 2 Axes>"
      ]
     },
     "metadata": {},
     "output_type": "display_data"
    }
   ],
   "source": [
    "plt.figure(figsize=(12,10))\n",
    "sns.heatmap(df.corr(), annot=True)"
   ]
  },
  {
   "cell_type": "markdown",
   "metadata": {},
   "source": [
    "#### Перевод категориальных данных в числовые"
   ]
  },
  {
   "cell_type": "code",
   "execution_count": 23,
   "metadata": {},
   "outputs": [],
   "source": [
    "le=LabelEncoder()\n",
    "le.fit(df.Country)\n",
    "df['Country']=le.transform(df.Country)"
   ]
  },
  {
   "cell_type": "code",
   "execution_count": 24,
   "metadata": {},
   "outputs": [],
   "source": [
    "le.fit(df.LOCATION)\n",
    "df['LOCATION']=le.transform(df.LOCATION)"
   ]
  },
  {
   "cell_type": "markdown",
   "metadata": {},
   "source": [
    "## Алгоритм РСА"
   ]
  },
  {
   "cell_type": "markdown",
   "metadata": {},
   "source": [
    "#### Запись датасета в переменную Х"
   ]
  },
  {
   "cell_type": "code",
   "execution_count": 26,
   "metadata": {},
   "outputs": [
    {
     "data": {
      "text/plain": [
       "(1331, 14)"
      ]
     },
     "execution_count": 26,
     "metadata": {},
     "output_type": "execute_result"
    }
   ],
   "source": [
    "X=df.values\n",
    "X.shape"
   ]
  },
  {
   "cell_type": "markdown",
   "metadata": {},
   "source": [
    "#### Стандартизация данных"
   ]
  },
  {
   "cell_type": "code",
   "execution_count": 27,
   "metadata": {},
   "outputs": [],
   "source": [
    "scaler = StandardScaler()\n",
    "scaler. fit(X)\n",
    "X_scaled = scaler. transform(X)"
   ]
  },
  {
   "cell_type": "markdown",
   "metadata": {},
   "source": [
    "#### Применение РСА для исходного числа признаков, чтобы определить насколько хорошо алгоритм улавливает дисперсию данных"
   ]
  },
  {
   "cell_type": "code",
   "execution_count": 28,
   "metadata": {},
   "outputs": [],
   "source": [
    "pca_14 = PCA(n_components=14, random_state=2020)\n",
    "pca_14.fit(X_scaled)\n",
    "X_pca_14 = pca_14.transform(X_scaled)"
   ]
  },
  {
   "cell_type": "code",
   "execution_count": 29,
   "metadata": {},
   "outputs": [
    {
     "name": "stdout",
     "output_type": "stream",
     "text": [
      "Дисперсия, объяснённая всеми 14 главными компонентами = 99.99999999999997\n"
     ]
    }
   ],
   "source": [
    "print(\"Дисперсия, объяснённая всеми 14 главными компонентами =\",\n",
    "    sum(pca_14.explained_variance_ratio_ * 100))"
   ]
  },
  {
   "cell_type": "code",
   "execution_count": 30,
   "metadata": {},
   "outputs": [
    {
     "data": {
      "text/plain": [
       "array([34.65900418, 18.56819811, 12.43573749,  8.1665437 ,  7.05465123,\n",
       "        6.24504645,  5.59815911,  3.81469614,  1.55025457,  0.77575064,\n",
       "        0.68934979,  0.23805091,  0.12540052,  0.07915716])"
      ]
     },
     "execution_count": 30,
     "metadata": {},
     "output_type": "execute_result"
    }
   ],
   "source": [
    "pca_14.explained_variance_ratio_ * 100"
   ]
  },
  {
   "cell_type": "markdown",
   "metadata": {},
   "source": [
    "#### Построение графика зависимости процента объяснённой дисперсии от количества компонентов"
   ]
  },
  {
   "cell_type": "code",
   "execution_count": 31,
   "metadata": {},
   "outputs": [
    {
     "data": {
      "image/png": "[encoded data removed]",
      "text/plain": [
       "<Figure size 432x288 with 1 Axes>"
      ]
     },
     "metadata": {},
     "output_type": "display_data"
    }
   ],
   "source": [
    "plt.plot(np.cumsum(pca_14.explained_variance_ratio_))\n",
    "plt.xlabel('Число компонентов')\n",
    "plt.ylabel('% объяснённой дисперсии')"
   ]
  },
  {
   "cell_type": "code",
   "execution_count": 32,
   "metadata": {},
   "outputs": [
    {
     "name": "stdout",
     "output_type": "stream",
     "text": [
      "Дисперсия, объяснённая первым главным компонентом = 34.65900418445456\n",
      "Дисперсия, объяснённая первыми двумя главными компонентами = 53.22720229248023\n",
      "Дисперсия, объяснённая первыми тремя главными компонентами = 65.66293978039013\n",
      "Дисперсия, объяснённая первыми восьмью главными компонентами = 96.54203641067573\n"
     ]
    }
   ],
   "source": [
    "print(\"Дисперсия, объяснённая первым главным компонентом =\",\n",
    "      np.cumsum(pca_14.explained_variance_ratio_ * 100)[0])\n",
    "print(\"Дисперсия, объяснённая первыми двумя главными компонентами =\",\n",
    "      np.cumsum(pca_14.explained_variance_ratio_ * 100)[1])\n",
    "print(\"Дисперсия, объяснённая первыми тремя главными компонентами =\" ,\n",
    "      np.cumsum(pca_14.explained_variance_ratio_ * 100)[2])\n",
    "print(\"Дисперсия, объяснённая первыми восьмью главными компонентами =\",\n",
    "      np.cumsum(pca_14.explained_variance_ratio_*100)[7])"
   ]
  },
  {
   "cell_type": "markdown",
   "metadata": {},
   "source": [
    "#### РСА с сохранением 95% дисперсии"
   ]
  },
  {
   "cell_type": "code",
   "execution_count": 33,
   "metadata": {},
   "outputs": [],
   "source": [
    "pca_95 = PCA(n_components=0.95, random_state=2020)\n",
    "pca_95.fit(X_scaled)\n",
    "X_pca_95 = pca_95.transform(X_scaled)"
   ]
  },
  {
   "cell_type": "code",
   "execution_count": 34,
   "metadata": {},
   "outputs": [
    {
     "data": {
      "text/plain": [
       "(1331, 8)"
      ]
     },
     "execution_count": 34,
     "metadata": {},
     "output_type": "execute_result"
    }
   ],
   "source": [
    "X_pca_95.shape"
   ]
  },
  {
   "cell_type": "code",
   "execution_count": 35,
   "metadata": {},
   "outputs": [
    {
     "data": {
      "text/plain": [
       "Text(0,0.5,'Преобразованные данные')"
      ]
     },
     "execution_count": 35,
     "metadata": {},
     "output_type": "execute_result"
    },
    {
     "data": {
      "image/png": "[encoded data removed]",
      "text/plain": [
       "<Figure size 720x504 with 1 Axes>"
      ]
     },
     "metadata": {},
     "output_type": "display_data"
    }
   ],
   "source": [
    "plt.figure(figsize=(10, 7))\n",
    "plt.plot(X_pca_95)\n",
    "plt.xlabel('Наблюдения')\n",
    "plt.ylabel('Преобразованные данные')"
   ]
  },
  {
   "cell_type": "markdown",
   "metadata": {},
   "source": [
    "#### Сохранение выходного датасета"
   ]
  },
  {
   "cell_type": "code",
   "execution_count": 36,
   "metadata": {
    "scrolled": true
   },
   "outputs": [],
   "source": [
    "df_new = pd.DataFrame(X_pca_95, columns=['PC1', 'PC2', 'PC3', 'PC4', 'PC5',\n",
    "\"PC6\", \"PC7\", \"PC8\"])"
   ]
  },
  {
   "cell_type": "code",
   "execution_count": 37,
   "metadata": {},
   "outputs": [],
   "source": [
    "df_new.to_excel(\"expendeture95.xlsx\", index = False)"
   ]
  },
  {
   "cell_type": "markdown",
   "metadata": {},
   "source": [
    "#### Определение размера выходного датасета"
   ]
  },
  {
   "cell_type": "code",
   "execution_count": 38,
   "metadata": {},
   "outputs": [
    {
     "name": "stdout",
     "output_type": "stream",
     "text": [
      "143.1 KB\n"
     ]
    }
   ],
   "source": [
    "import os\n",
    "\n",
    "def convert_bytes(num):\n",
    "    \"\"\"\n",
    "    this function will convert bytes to MB.... GB... etc\n",
    "    \"\"\"\n",
    "    for x in ['bytes', 'KB', 'MB', 'GB', 'TB']:\n",
    "        if num < 1024.0:\n",
    "            return \"%3.1f %s\" % (num, x)\n",
    "        num /= 1024.0\n",
    "def file_size(file_path):\n",
    "    \"\"\"\n",
    "    this function will return the file size\n",
    "    \"\"\"\n",
    "    if os.path.isfile(file_path):\n",
    "        file_info = os.stat(file_path)\n",
    "        return convert_bytes(file_info.st_size)\n",
    "    \n",
    "file_path = r\"expendeture95.xlsx\"\n",
    "print (file_size(file_path))"
   ]
  },
  {
   "cell_type": "markdown",
   "metadata": {},
   "source": [
    "## РСА с удалением столбцов"
   ]
  },
  {
   "cell_type": "code",
   "execution_count": 39,
   "metadata": {},
   "outputs": [],
   "source": [
    "df_drop=pd.read_csv('expenditure_csv.csv', header=0)"
   ]
  },
  {
   "cell_type": "markdown",
   "metadata": {},
   "source": [
    "#### Определение пропущенных значений"
   ]
  },
  {
   "cell_type": "code",
   "execution_count": 40,
   "metadata": {},
   "outputs": [],
   "source": [
    "def missing_values_table(df):\n",
    "        \n",
    "        mis_val = df.isnull().sum()\n",
    "        \n",
    "        mis_val_percent = 100 * df.isnull().sum() / len(df)\n",
    "        \n",
    "        mis_val_table = pd.concat([mis_val, mis_val_percent], axis=1)\n",
    "        \n",
    "        mis_val_table_ren_columns = mis_val_table.rename(\n",
    "        columns = {0 : 'Missing Values', 1 : '% of Total Values'})\n",
    "        \n",
    "        mis_val_table_ren_columns = mis_val_table_ren_columns[\n",
    "            mis_val_table_ren_columns.iloc[:,1] != 0].sort_values(\n",
    "        '% of Total Values', ascending=False).round(1)\n",
    "        \n",
    "        print (\"Датасет содержит \" + str(df.shape[1]) + \" признаков.\\n\"      \n",
    "            \"Из них \" + str(mis_val_table_ren_columns.shape[0]) +\n",
    "              \" имеют пропущенные значения.\")\n",
    "        \n",
    "        return mis_val_table_ren_columns"
   ]
  },
  {
   "cell_type": "code",
   "execution_count": 41,
   "metadata": {},
   "outputs": [
    {
     "name": "stdout",
     "output_type": "stream",
     "text": [
      "Датасет содержит 14 признаков.\n",
      "Из них 11 имеют пропущенные значения.\n"
     ]
    },
    {
     "data": {
      "text/html": [
       "<div>\n",
       "<style scoped>\n",
       "    .dataframe tbody tr th:only-of-type {\n",
       "        vertical-align: middle;\n",
       "    }\n",
       "\n",
       "    .dataframe tbody tr th {\n",
       "        vertical-align: top;\n",
       "    }\n",
       "\n",
       "    .dataframe thead th {\n",
       "        text-align: right;\n",
       "    }\n",
       "</style>\n",
       "<table border=\"1\" class=\"dataframe\">\n",
       "  <thead>\n",
       "    <tr style=\"text-align: right;\">\n",
       "      <th></th>\n",
       "      <th>Missing Values</th>\n",
       "      <th>% of Total Values</th>\n",
       "    </tr>\n",
       "  </thead>\n",
       "  <tbody>\n",
       "    <tr>\n",
       "      <th>Not specified activities</th>\n",
       "      <td>1167</td>\n",
       "      <td>87.7</td>\n",
       "    </tr>\n",
       "    <tr>\n",
       "      <th>Not specified source</th>\n",
       "      <td>1127</td>\n",
       "      <td>84.7</td>\n",
       "    </tr>\n",
       "    <tr>\n",
       "      <th>Medical and health sciences</th>\n",
       "      <td>732</td>\n",
       "      <td>55.0</td>\n",
       "    </tr>\n",
       "    <tr>\n",
       "      <th>Experimental development</th>\n",
       "      <td>680</td>\n",
       "      <td>51.1</td>\n",
       "    </tr>\n",
       "    <tr>\n",
       "      <th>Basic research</th>\n",
       "      <td>669</td>\n",
       "      <td>50.3</td>\n",
       "    </tr>\n",
       "    <tr>\n",
       "      <th>Applied research</th>\n",
       "      <td>658</td>\n",
       "      <td>49.4</td>\n",
       "    </tr>\n",
       "    <tr>\n",
       "      <th>Private non-profit</th>\n",
       "      <td>427</td>\n",
       "      <td>32.1</td>\n",
       "    </tr>\n",
       "    <tr>\n",
       "      <th>Higher Education</th>\n",
       "      <td>384</td>\n",
       "      <td>28.9</td>\n",
       "    </tr>\n",
       "    <tr>\n",
       "      <th>Rest of the world</th>\n",
       "      <td>194</td>\n",
       "      <td>14.6</td>\n",
       "    </tr>\n",
       "    <tr>\n",
       "      <th>Business enterprise</th>\n",
       "      <td>185</td>\n",
       "      <td>13.9</td>\n",
       "    </tr>\n",
       "    <tr>\n",
       "      <th>Government</th>\n",
       "      <td>79</td>\n",
       "      <td>5.9</td>\n",
       "    </tr>\n",
       "  </tbody>\n",
       "</table>\n",
       "</div>"
      ],
      "text/plain": [
       "                             Missing Values  % of Total Values\n",
       "Not specified activities               1167               87.7\n",
       "Not specified source                   1127               84.7\n",
       "Medical and health sciences             732               55.0\n",
       "Experimental development                680               51.1\n",
       "Basic research                          669               50.3\n",
       "Applied research                        658               49.4\n",
       "Private non-profit                      427               32.1\n",
       "Higher Education                        384               28.9\n",
       "Rest of the world                       194               14.6\n",
       "Business enterprise                     185               13.9\n",
       "Government                               79                5.9"
      ]
     },
     "execution_count": 41,
     "metadata": {},
     "output_type": "execute_result"
    }
   ],
   "source": [
    "missing_values = missing_values_table(df_drop)\n",
    "missing_values"
   ]
  },
  {
   "cell_type": "markdown",
   "metadata": {},
   "source": [
    "#### Определение количества уникальных значений по столбцам"
   ]
  },
  {
   "cell_type": "code",
   "execution_count": 42,
   "metadata": {},
   "outputs": [
    {
     "data": {
      "text/plain": [
       "LOCATION                        124\n",
       "Country                         124\n",
       "TIME                             21\n",
       "Business enterprise            1147\n",
       "Government                     1253\n",
       "Higher Education                947\n",
       "Private non-profit              905\n",
       "Rest of the world              1137\n",
       "Not specified source            205\n",
       "Basic research                  663\n",
       "Applied research                673\n",
       "Experimental development        651\n",
       "Not specified activities        165\n",
       "Medical and health sciences     599\n",
       "dtype: int64"
      ]
     },
     "execution_count": 42,
     "metadata": {},
     "output_type": "execute_result"
    }
   ],
   "source": [
    "df.nunique()"
   ]
  },
  {
   "cell_type": "markdown",
   "metadata": {},
   "source": [
    "#### Удаление столбцов"
   ]
  },
  {
   "cell_type": "code",
   "execution_count": 43,
   "metadata": {},
   "outputs": [],
   "source": [
    "df_drop = df_drop.drop(columns = ['Not specified activities','Not specified source','Country'])"
   ]
  },
  {
   "cell_type": "markdown",
   "metadata": {},
   "source": [
    "#### Замена категориальных данных на числовые"
   ]
  },
  {
   "cell_type": "code",
   "execution_count": 44,
   "metadata": {},
   "outputs": [],
   "source": [
    "le=LabelEncoder()\n",
    "le.fit(df_drop.LOCATION)\n",
    "df_drop['LOCATION']=le.transform(df_drop.LOCATION)"
   ]
  },
  {
   "cell_type": "markdown",
   "metadata": {},
   "source": [
    "#### Заполнение отсутствующих значений"
   ]
  },
  {
   "cell_type": "code",
   "execution_count": 45,
   "metadata": {},
   "outputs": [
    {
     "name": "stdout",
     "output_type": "stream",
     "text": [
      "Заполнение недостающих значений для: Business enterprise\n",
      "Заполнение недостающих значений для: Government\n",
      "Заполнение недостающих значений для: Higher Education\n",
      "Заполнение недостающих значений для: Private non-profit\n",
      "Заполнение недостающих значений для: Rest of the world\n",
      "Заполнение недостающих значений для: Basic research\n",
      "Заполнение недостающих значений для: Applied research\n",
      "Заполнение недостающих значений для: Experimental development\n",
      "Заполнение недостающих значений для: Medical and health sciences\n"
     ]
    }
   ],
   "source": [
    "df_drop_numeric = df_drop.select_dtypes(include=[np.number])\n",
    "numeric_cols = df_drop_numeric.columns.values\n",
    "for col in numeric_cols:\n",
    "    missing = df_drop[col].isnull()\n",
    "    num_missing = np.sum(missing)\n",
    "    \n",
    "    if num_missing > 0:  # only do the imputation for the columns that have missing values.\n",
    "        print('Заполнение недостающих значений для: {}'.format(col))\n",
    "        \n",
    "        med = df_drop[col].median()\n",
    "        df_drop[col] = df_drop[col].fillna(med)"
   ]
  },
  {
   "cell_type": "markdown",
   "metadata": {},
   "source": [
    "### Алгоритм РСА  "
   ]
  },
  {
   "cell_type": "code",
   "execution_count": 46,
   "metadata": {},
   "outputs": [
    {
     "data": {
      "text/plain": [
       "(1331, 11)"
      ]
     },
     "execution_count": 46,
     "metadata": {},
     "output_type": "execute_result"
    }
   ],
   "source": [
    "X_drop=df_drop.values\n",
    "X_drop.shape"
   ]
  },
  {
   "cell_type": "code",
   "execution_count": 47,
   "metadata": {},
   "outputs": [],
   "source": [
    "scaler. fit(X_drop)\n",
    "X_drop_scaled = scaler. transform(X_drop)"
   ]
  },
  {
   "cell_type": "code",
   "execution_count": 48,
   "metadata": {},
   "outputs": [],
   "source": [
    "from sklearn.decomposition import PCA\n",
    "pca_11 = PCA(n_components=11, random_state=2020)\n",
    "pca_11.fit(X_drop_scaled)\n",
    "X_pca_11 = pca_11.transform(X_drop_scaled)"
   ]
  },
  {
   "cell_type": "code",
   "execution_count": 49,
   "metadata": {},
   "outputs": [
    {
     "name": "stdout",
     "output_type": "stream",
     "text": [
      "Дисперсия, объяснённая всеми 11 главными компонентами = 100.00000000000001\n"
     ]
    }
   ],
   "source": [
    "print(\"Дисперсия, объяснённая всеми 11 главными компонентами =\",\n",
    "    sum(pca_11.explained_variance_ratio_ * 100))"
   ]
  },
  {
   "cell_type": "code",
   "execution_count": 50,
   "metadata": {},
   "outputs": [
    {
     "data": {
      "text/plain": [
       "array([42.68722864, 20.83593099, 10.37416789,  8.8244205 ,  7.55173515,\n",
       "        4.53127541,  3.6619877 ,  0.95350747,  0.30970512,  0.16684313,\n",
       "        0.10319799])"
      ]
     },
     "execution_count": 50,
     "metadata": {},
     "output_type": "execute_result"
    }
   ],
   "source": [
    "pca_11.explained_variance_ratio_ * 100"
   ]
  },
  {
   "cell_type": "code",
   "execution_count": 51,
   "metadata": {},
   "outputs": [
    {
     "data": {
      "image/png": "[encoded data removed]",
      "text/plain": [
       "<Figure size 432x288 with 1 Axes>"
      ]
     },
     "metadata": {},
     "output_type": "display_data"
    }
   ],
   "source": [
    "plt.plot(np.cumsum(pca_11.explained_variance_ratio_))\n",
    "plt.xlabel('Число компонентов')\n",
    "plt.ylabel('% объяснённой дисперсии')"
   ]
  },
  {
   "cell_type": "code",
   "execution_count": 52,
   "metadata": {},
   "outputs": [
    {
     "name": "stdout",
     "output_type": "stream",
     "text": [
      "Дисперсия, объяснённая первым главным компонентом = 42.68722864395495\n",
      "Дисперсия, объяснённая первыми двумя главными компонентами = 63.523159634592844\n",
      "Дисперсия, объяснённая первыми тремя главными компонентами = 73.89732752265714\n",
      "Дисперсия, объяснённая первыми шестью главными компонентами = 94.80475858080148\n"
     ]
    }
   ],
   "source": [
    "print(\"Дисперсия, объяснённая первым главным компонентом =\",\n",
    "      np.cumsum(pca_11.explained_variance_ratio_ * 100)[0])\n",
    "print(\"Дисперсия, объяснённая первыми двумя главными компонентами =\",\n",
    "      np.cumsum(pca_11.explained_variance_ratio_ * 100)[1])\n",
    "print(\"Дисперсия, объяснённая первыми тремя главными компонентами =\" ,\n",
    "      np.cumsum(pca_11.explained_variance_ratio_ * 100)[2])\n",
    "print(\"Дисперсия, объяснённая первыми шестью главными компонентами =\",\n",
    "      np.cumsum(pca_11.explained_variance_ratio_*100)[5])"
   ]
  },
  {
   "cell_type": "code",
   "execution_count": 53,
   "metadata": {},
   "outputs": [],
   "source": [
    "pca_95 = PCA(n_components=0.95, random_state=2020)\n",
    "pca_95.fit(X_drop_scaled)\n",
    "X_drop_pca_95 = pca_95.transform(X_drop_scaled)"
   ]
  },
  {
   "cell_type": "code",
   "execution_count": 54,
   "metadata": {},
   "outputs": [
    {
     "data": {
      "text/plain": [
       "(1331, 7)"
      ]
     },
     "execution_count": 54,
     "metadata": {},
     "output_type": "execute_result"
    }
   ],
   "source": [
    "X_drop_pca_95.shape"
   ]
  },
  {
   "cell_type": "code",
   "execution_count": 55,
   "metadata": {},
   "outputs": [
    {
     "data": {
      "text/plain": [
       "Text(0,0.5,'Преобразованные данные')"
      ]
     },
     "execution_count": 55,
     "metadata": {},
     "output_type": "execute_result"
    },
    {
     "data": {
      "image/png": "[encoded data removed]",
      "text/plain": [
       "<Figure size 720x504 with 1 Axes>"
      ]
     },
     "metadata": {},
     "output_type": "display_data"
    }
   ],
   "source": [
    "plt.figure(figsize=(10, 7))\n",
    "plt.plot(X_drop_pca_95)\n",
    "plt.xlabel('Наблюдения')\n",
    "plt.ylabel('Преобразованные данные')"
   ]
  },
  {
   "cell_type": "code",
   "execution_count": 56,
   "metadata": {},
   "outputs": [],
   "source": [
    "df_drop_new = pd.DataFrame(X_drop_pca_95, columns=['PC1', 'PC2', 'PC3', 'PC4', 'PC5',\n",
    "\"PC6\", \"PC7\"])"
   ]
  },
  {
   "cell_type": "code",
   "execution_count": 57,
   "metadata": {},
   "outputs": [],
   "source": [
    "df_drop_new.to_excel(\"expendeture95_drop.xlsx\", index=False)"
   ]
  },
  {
   "cell_type": "markdown",
   "metadata": {},
   "source": [
    "#### Определение объёма выходного датасета"
   ]
  },
  {
   "cell_type": "code",
   "execution_count": 58,
   "metadata": {},
   "outputs": [
    {
     "name": "stdout",
     "output_type": "stream",
     "text": [
      "126.9 KB\n"
     ]
    }
   ],
   "source": [
    "import os\n",
    "\n",
    "def convert_bytes(num):\n",
    "    \"\"\"\n",
    "    this function will convert bytes to MB.... GB... etc\n",
    "    \"\"\"\n",
    "    for x in ['bytes', 'KB', 'MB', 'GB', 'TB']:\n",
    "        if num < 1024.0:\n",
    "            return \"%3.1f %s\" % (num, x)\n",
    "        num /= 1024.0\n",
    "def file_size(file_path):\n",
    "    \"\"\"\n",
    "    this function will return the file size\n",
    "    \"\"\"\n",
    "    if os.path.isfile(file_path):\n",
    "        file_info = os.stat(file_path)\n",
    "        return convert_bytes(file_info.st_size)\n",
    "    \n",
    "file_path = r\"expendeture95_drop.xlsx\"\n",
    "print (file_size(file_path))"
   ]
  }
 ],
 "metadata": {
  "kernelspec": {
   "display_name": "Python 3",
   "language": "python",
   "name": "python3"
  },
  "language_info": {
   "codemirror_mode": {
    "name": "ipython",
    "version": 3
   },
   "file_extension": ".py",
   "mimetype": "text/x-python",
   "name": "python",
   "nbconvert_exporter": "python",
   "pygments_lexer": "ipython3",
   "version": "3.6.5"
  }
 },
 "nbformat": 4,
 "nbformat_minor": 2
}
